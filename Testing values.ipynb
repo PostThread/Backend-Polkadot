{
 "cells": [
  {
   "cell_type": "markdown",
   "id": "3043c750",
   "metadata": {},
   "source": [
    "### Auto-reload any imported files"
   ]
  },
  {
   "cell_type": "code",
   "execution_count": 2,
   "id": "6f6314c3",
   "metadata": {},
   "outputs": [],
   "source": [
    "%load_ext autoreload\n",
    "%autoreload 2"
   ]
  },
  {
   "cell_type": "markdown",
   "id": "9cbd1ce1",
   "metadata": {},
   "source": [
    "# Setup"
   ]
  },
  {
   "cell_type": "markdown",
   "id": "2f3bbf7d",
   "metadata": {},
   "source": [
    "### Start IPFS"
   ]
  },
  {
   "cell_type": "code",
   "execution_count": 20,
   "id": "f7a6a57a",
   "metadata": {},
   "outputs": [],
   "source": [
    "# Download IPFS at https://github.com/ipfs/ipfs-desktop/releases/tag/v0.24.1\n",
    "# Install and start"
   ]
  },
  {
   "cell_type": "markdown",
   "id": "bdbb8a2f",
   "metadata": {},
   "source": [
    "### Pull and run docker container to start local parachain"
   ]
  },
  {
   "cell_type": "code",
   "execution_count": null,
   "id": "70433c9b",
   "metadata": {},
   "outputs": [],
   "source": [
    "!docker pull frequencychain/instant-seal-node:v0.9.29"
   ]
  },
  {
   "cell_type": "code",
   "execution_count": 3,
   "id": "63101fe3",
   "metadata": {},
   "outputs": [
    {
     "name": "stdout",
     "output_type": "stream",
     "text": [
      "596c9f9e42a398263dd14974cfc3b020c88615118b4a4752f5e2d80339f370cc\n"
     ]
    }
   ],
   "source": [
    "# If you want to restart parachain the run this with correct container ID\n",
    "\n",
    "if True:\n",
    "    !docker kill 596c9f9e42a398263dd14974cfc3b020c88615118b4a4752f5e2d80339f370cc               "
   ]
  },
  {
   "cell_type": "code",
   "execution_count": 4,
   "id": "f4f9a326",
   "metadata": {},
   "outputs": [
    {
     "name": "stdout",
     "output_type": "stream",
     "text": [
      "e7ba6ed73d8eec974cec710a30dcdb45ddd1c2f92214a51e2e1f807e455f9957\n"
     ]
    }
   ],
   "source": [
    "!docker run -d --rm -p 9944:9944 -p 9933:9933 -p 30333:30333 frequencychain/instant-seal-node:v0.9.29"
   ]
  },
  {
   "cell_type": "code",
   "execution_count": 5,
   "id": "cb09e904",
   "metadata": {},
   "outputs": [
    {
     "name": "stdout",
     "output_type": "stream",
     "text": [
      "CONTAINER ID   IMAGE                                      COMMAND                  CREATED         STATUS                  PORTS                                                                      NAMES\n",
      "e7ba6ed73d8e   frequencychain/instant-seal-node:v0.9.29   \"/frequency/frequencâ€¦\"   2 seconds ago   Up Less than a second   0.0.0.0:9933->9933/tcp, 0.0.0.0:9944->9944/tcp, 0.0.0.0:30333->30333/tcp   reverent_einstein\n"
     ]
    }
   ],
   "source": [
    "!docker container list"
   ]
  },
  {
   "cell_type": "markdown",
   "id": "f7cd3b5a",
   "metadata": {},
   "source": [
    "### Install and import packages"
   ]
  },
  {
   "cell_type": "code",
   "execution_count": null,
   "id": "5796e225",
   "metadata": {},
   "outputs": [],
   "source": [
    "!pip install substrateinterface\n",
    "!pip install ipfshttpclient==0.8.0a1\n",
    "!pip install avro"
   ]
  },
  {
   "cell_type": "code",
   "execution_count": 6,
   "id": "9f865ce4",
   "metadata": {
    "scrolled": true
   },
   "outputs": [
    {
     "name": "stderr",
     "output_type": "stream",
     "text": [
      "C:\\Users\\Mcian\\anaconda3\\lib\\site-packages\\ipfshttpclient\\client\\__init__.py:73: VersionMismatch: Unsupported daemon version '0.16.0' (not in range: 0.5.0 ≤ … < 0.9.0)\n",
      "  warnings.warn(exceptions.VersionMismatch(version, minimum, maximum))\n"
     ]
    }
   ],
   "source": [
    "import json\n",
    "import sqlite3\n",
    "import pandas as pd\n",
    "import substrateinterface\n",
    "from substrateinterface import SubstrateInterface, Keypair\n",
    "from substrateinterface.exceptions import SubstrateRequestException\n",
    "from substrate_helpers import reload_schemas, make_call, add_schema, get_msa_id, create_msa_id, create_msa_with_delegator, mint_user, follow_user, mint_ipfs_data, mint_onchain_data"
   ]
  },
  {
   "cell_type": "markdown",
   "id": "ba567903",
   "metadata": {},
   "source": [
    "### Create folder where IPFS data will be hosted"
   ]
  },
  {
   "cell_type": "code",
   "execution_count": 94,
   "id": "75e7e3a8",
   "metadata": {},
   "outputs": [
    {
     "name": "stderr",
     "output_type": "stream",
     "text": [
      "A subdirectory or file posts already exists.\n",
      "A subdirectory or file comments already exists.\n"
     ]
    }
   ],
   "source": [
    "!mkdir posts\n",
    "!mkdir comments"
   ]
  },
  {
   "cell_type": "markdown",
   "id": "37a994b5",
   "metadata": {},
   "source": [
    "# Interacting with Blockchain"
   ]
  },
  {
   "cell_type": "markdown",
   "id": "4fed406b",
   "metadata": {},
   "source": [
    "### Connect to parachain\n",
    "Visit https://polkadot.js.org/apps/?rpc=ws%3A%2F%2F127.0.0.1%3A9944#/explorer for a UI to interact with"
   ]
  },
  {
   "cell_type": "code",
   "execution_count": 7,
   "id": "5cc0951b",
   "metadata": {
    "scrolled": true
   },
   "outputs": [],
   "source": [
    "path = ''\n",
    "ferdie = Keypair.create_from_uri('//Ferdie')\n",
    "substrate = SubstrateInterface(\n",
    "    url=\"ws://127.0.0.1:9944\",\n",
    "    ss58_format=42,\n",
    "    type_registry_preset='polkadot'\n",
    ")"
   ]
  },
  {
   "cell_type": "code",
   "execution_count": 8,
   "id": "fda56af6",
   "metadata": {},
   "outputs": [],
   "source": [
    "ferdie_msa_id = create_msa_id(ferdie)"
   ]
  },
  {
   "cell_type": "code",
   "execution_count": 9,
   "id": "ee9d6b7f",
   "metadata": {},
   "outputs": [
    {
     "data": {
      "text/plain": [
       "1"
      ]
     },
     "execution_count": 9,
     "metadata": {},
     "output_type": "execute_result"
    }
   ],
   "source": [
    "ferdie_msa_id"
   ]
  },
  {
   "cell_type": "code",
   "execution_count": 10,
   "id": "445daf90",
   "metadata": {},
   "outputs": [],
   "source": [
    "receipt = make_call(\"Msa\", \"create_provider\", {\"provider_name\": \"PostThread\"}, ferdie, wait_for_inclusion=True)"
   ]
  },
  {
   "cell_type": "code",
   "execution_count": 11,
   "id": "ce843266",
   "metadata": {},
   "outputs": [],
   "source": [
    "receipt.error_message"
   ]
  },
  {
   "cell_type": "markdown",
   "id": "410236c4",
   "metadata": {},
   "source": [
    "# Make schemas"
   ]
  },
  {
   "cell_type": "code",
   "execution_count": 12,
   "id": "0dd80bf7",
   "metadata": {
    "scrolled": true
   },
   "outputs": [],
   "source": [
    "schemas = [\n",
    "    {\"namespace\": \"post.avro\",\n",
    "     \"type\": \"record\",\n",
    "     \"name\": \"Post\",\n",
    "     \"fields\": [\n",
    "         {\"name\": \"category\", \"type\": \"string\"},\n",
    "         {\"name\": \"title\",  \"type\": \"string\"},\n",
    "         {\"name\": \"body\",  \"type\": \"string\"},\n",
    "         {\"name\": \"url\", \"type\": [\"string\", \"null\"]},\n",
    "         {\"name\": \"is_nsfw\",  \"type\": \"bool\"},\n",
    "     ]\n",
    "    },\n",
    "    {\"namespace\": \"comment.avro\",\n",
    "     \"type\": \"record\",\n",
    "     \"name\": \"Comment\",\n",
    "     \"fields\": [\n",
    "         {\"name\": \"post_hash\", \"type\": \"string\"},\n",
    "         {\"name\": \"parent_hash\",  \"type\": \"string\"},\n",
    "         {\"name\": \"depth\",  \"type\": \"numeric\"},\n",
    "         {\"name\": \"body\", \"type\": \"string\"}\n",
    "     ]\n",
    "    },\n",
    "    {\"namespace\": \"vote.avro\",\n",
    "     \"type\": \"record\",\n",
    "     \"name\": \"Vote\",\n",
    "     \"fields\": [\n",
    "         {\"name\": \"post_hash\", \"type\": \"string\"},\n",
    "         {\"name\": \"parent_hash\",  \"type\": \"string\"},\n",
    "         {\"name\": \"parent_type\",  \"type\": \"string\"},\n",
    "         {\"name\": \"num_votes\",  \"type\": \"numeric\"},\n",
    "     ]\n",
    "    },\n",
    "    {\"namespace\": \"user.avro\",\n",
    "     \"type\": \"record\",\n",
    "     \"name\": \"User\",\n",
    "     \"fields\": [\n",
    "         {\"name\": \"msa_id\", \"type\": \"numeric\"},\n",
    "         {\"name\": \"username\", \"type\": \"string\"},\n",
    "         {\"name\": \"profile_pic\",  \"type\": \"string\"},\n",
    "         {\"name\": \"wallet_ss58_address\",  \"type\": \"string\"},\n",
    "     ]\n",
    "    },\n",
    "    {\"namespace\": \"follow.avro\",\n",
    "     \"type\": \"record\",\n",
    "     \"name\": \"Follow\",\n",
    "     \"fields\": [\n",
    "         {\"name\": \"protagonist_msa_id\", \"type\": \"numeric\"},\n",
    "         {\"name\": \"antagonist_msa_id\", \"type\": \"numeric\"},\n",
    "         {\"name\": \"event\", \"type\": \"string\"},\n",
    "     ]\n",
    "    },\n",
    "    {\"namespace\": \"link.avro\",\n",
    "     \"type\": \"record\",\n",
    "     \"name\": \"Link\",\n",
    "     \"fields\": [\n",
    "         {\"name\": \"account_type\", \"type\": \"numeric\"},\n",
    "         {\"name\": \"account_value\", \"type\": \"string\"},\n",
    "     ]\n",
    "    },\n",
    "    {\"namespace\": \"payout.avro\",\n",
    "     \"type\": \"record\",\n",
    "     \"name\": \"Payout\",\n",
    "     \"fields\": [\n",
    "         {\"name\": \"payout_amount\", \"type\": \"numeric\"},\n",
    "     ]\n",
    "    }\n",
    "]"
   ]
  },
  {
   "cell_type": "code",
   "execution_count": 13,
   "id": "4a86bccc",
   "metadata": {
    "scrolled": true
   },
   "outputs": [],
   "source": [
    "schema_ids = {}\n",
    "for schema in schemas:\n",
    "    is_ipfs = False\n",
    "    if schema['name'] in ['Post', 'Comment']:\n",
    "        is_ipfs = True\n",
    "    schema_id, receipt = add_schema(schema, is_ipfs=is_ipfs, wait_for_inclusion=True)\n",
    "    schema_ids[schema['name'].lower()] = schema_id"
   ]
  },
  {
   "cell_type": "code",
   "execution_count": 14,
   "id": "b81081be",
   "metadata": {
    "scrolled": true
   },
   "outputs": [],
   "source": [
    "json.dump(schema_ids, open(\"schemas.json\", \"w\"))"
   ]
  },
  {
   "cell_type": "code",
   "execution_count": 15,
   "id": "5672a0ef",
   "metadata": {},
   "outputs": [
    {
     "data": {
      "text/plain": [
       "{'post': 1,\n",
       " 'comment': 2,\n",
       " 'vote': 3,\n",
       " 'user': 4,\n",
       " 'follow': 5,\n",
       " 'link': 6,\n",
       " 'payout': 7}"
      ]
     },
     "execution_count": 15,
     "metadata": {},
     "output_type": "execute_result"
    }
   ],
   "source": [
    "schema_ids"
   ]
  },
  {
   "cell_type": "code",
   "execution_count": 16,
   "id": "8dd24f8c",
   "metadata": {},
   "outputs": [],
   "source": [
    "reload_schemas()"
   ]
  },
  {
   "cell_type": "markdown",
   "id": "7d979bcb",
   "metadata": {},
   "source": [
    "# Mint accounts \n",
    "These are names of the collators"
   ]
  },
  {
   "cell_type": "code",
   "execution_count": 22,
   "id": "73af93ae",
   "metadata": {
    "scrolled": true
   },
   "outputs": [],
   "source": [
    "accounts = {}\n",
    "for account in ['Alice', 'Bob', 'Charlie', 'Dave', 'Eve']:\n",
    "    wallet = Keypair.create_from_uri(f'//{account}')\n",
    "    user_msa_id = create_msa_with_delegator(ferdie, wallet)\n",
    "    receipt_user = mint_user(user_msa_id, account, \"profile_pic\", wallet)\n",
    "    accounts[account] = user_msa_id"
   ]
  },
  {
   "cell_type": "code",
   "execution_count": 23,
   "id": "935fe0cd",
   "metadata": {},
   "outputs": [],
   "source": [
    "json.dump(accounts, open(\"accounts.json\", \"w\"))"
   ]
  },
  {
   "cell_type": "code",
   "execution_count": 24,
   "id": "d1e47bf8",
   "metadata": {},
   "outputs": [
    {
     "data": {
      "text/plain": [
       "{'Alice': 7, 'Bob': 8, 'Charlie': 9, 'Dave': 10, 'Eve': 11}"
      ]
     },
     "execution_count": 24,
     "metadata": {},
     "output_type": "execute_result"
    }
   ],
   "source": [
    "accounts"
   ]
  },
  {
   "cell_type": "markdown",
   "id": "17943ed7",
   "metadata": {},
   "source": [
    "# Have accounts follow each other"
   ]
  },
  {
   "cell_type": "code",
   "execution_count": 25,
   "id": "0e81330b",
   "metadata": {
    "scrolled": true
   },
   "outputs": [
    {
     "name": "stdout",
     "output_type": "stream",
     "text": [
      "Alice Bob\n",
      "Alice Charlie\n",
      "Alice Dave\n",
      "Alice Eve\n",
      "Bob Alice\n",
      "Bob Charlie\n",
      "Bob Dave\n",
      "Bob Eve\n",
      "Charlie Alice\n",
      "Charlie Bob\n",
      "Charlie Dave\n",
      "Charlie Eve\n",
      "Dave Alice\n",
      "Dave Bob\n",
      "Dave Charlie\n",
      "Dave Eve\n",
      "Eve Alice\n",
      "Eve Bob\n",
      "Eve Charlie\n",
      "Eve Dave\n"
     ]
    }
   ],
   "source": [
    "for name1, k1 in accounts.items():\n",
    "    for name2, k2 in accounts.items():\n",
    "        if k1 != k2:\n",
    "            print(name1, name2)\n",
    "            receipt = follow_user(k1, k2, True, wait_for_inclusion=False)"
   ]
  },
  {
   "cell_type": "code",
   "execution_count": 21,
   "id": "754e8fd0",
   "metadata": {
    "scrolled": true
   },
   "outputs": [],
   "source": [
    "receipt = follow_user(accounts['Dave'], accounts['Eve'], False, wait_for_inclusion=False)\n",
    "receipt = follow_user(accounts['Eve'], accounts['Dave'], False, wait_for_inclusion=False)\n",
    "receipt = follow_user(accounts['Dave'], accounts['Eve'], True, wait_for_inclusion=False)"
   ]
  },
  {
   "cell_type": "markdown",
   "id": "b1f46736",
   "metadata": {},
   "source": [
    "make new wallet with no tokens and you can see its still able to mint a user due to the delegation"
   ]
  },
  {
   "cell_type": "code",
   "execution_count": 26,
   "id": "cb6d5e98",
   "metadata": {},
   "outputs": [],
   "source": [
    "wallet = Keypair.create_from_uri(f'//the_doge_fatherpassword')\n",
    "user_msa_id = create_msa_with_delegator(ferdie, wallet)\n",
    "receipt_user = mint_user(user_msa_id, account, \"profile_pic\", wallet)\n",
    "for name1, k1 in accounts.items():\n",
    "    receipt = follow_user(k1, user_msa_id, True, wait_for_inclusion=False)"
   ]
  },
  {
   "cell_type": "markdown",
   "id": "fa6e1713",
   "metadata": {},
   "source": [
    "# Test all the schemas\n",
    "Post and comment will make ipfs files, but the others will mint straight to parachain"
   ]
  },
  {
   "cell_type": "code",
   "execution_count": 27,
   "id": "d0b4f3b6",
   "metadata": {},
   "outputs": [],
   "source": [
    "post_data = {\n",
    "    \"category\": \"test\",\n",
    "    \"title\": \"test title\",\n",
    "    \"body\": \"test post\",\n",
    "    \"url\": \"\",\n",
    "    \"is_nsfw\": False\n",
    "}\n",
    "\n",
    "post_data_hash, receipt_post = mint_ipfs_data(post_data, accounts['Charlie'], schema_ids['post'], path+'posts/', wait_for_inclusion=True)"
   ]
  },
  {
   "cell_type": "code",
   "execution_count": 31,
   "id": "17e28c1b",
   "metadata": {},
   "outputs": [
    {
     "data": {
      "text/plain": [
       "('QmbG2dxLWHKvdgsTqDzLjhD96BXrLQUeJkrLuasmPZKgn9', None)"
      ]
     },
     "execution_count": 31,
     "metadata": {},
     "output_type": "execute_result"
    }
   ],
   "source": [
    "post_data_hash, receipt_post.error_message"
   ]
  },
  {
   "cell_type": "code",
   "execution_count": 32,
   "id": "ad265ade",
   "metadata": {
    "scrolled": true
   },
   "outputs": [],
   "source": [
    "comment_data = {\n",
    "    \"post_hash\": post_data_hash,\n",
    "    \"parent_hash\": post_data_hash,\n",
    "    \"depth\": 0,\n",
    "    \"body\": \"example comment 2\",\n",
    "}\n",
    "\n",
    "comment_data_hash, receipt_comment = mint_ipfs_data(comment_data, accounts['Charlie'], schema_ids['comment'], path+'comments/', wait_for_inclusion=True)"
   ]
  },
  {
   "cell_type": "code",
   "execution_count": 33,
   "id": "5e46bc37",
   "metadata": {},
   "outputs": [
    {
     "data": {
      "text/plain": [
       "('Qmd9sFS6teTACsrxyHKmZZyjTj5C1mVzoVbYrFHXLunuJF', None)"
      ]
     },
     "execution_count": 33,
     "metadata": {},
     "output_type": "execute_result"
    }
   ],
   "source": [
    "comment_data_hash, receipt_comment.error_message"
   ]
  },
  {
   "cell_type": "code",
   "execution_count": 34,
   "id": "f040398c",
   "metadata": {},
   "outputs": [],
   "source": [
    "account_type = \"gmail\"\n",
    "account_value = \"example@gmail.com\"\n",
    "link_data = '{' + f'\"account_type\": \"{account_type}\",\"account_value\": \"{account_value}\"' + '}'\n",
    "\n",
    "receipt_link = mint_onchain_data(link_data, accounts['Charlie'], schema_ids['link'], wait_for_inclusion=True)"
   ]
  },
  {
   "cell_type": "code",
   "execution_count": 35,
   "id": "dbcf25d3",
   "metadata": {},
   "outputs": [],
   "source": [
    "receipt_link.error_message"
   ]
  },
  {
   "cell_type": "code",
   "execution_count": 37,
   "id": "bf1552f7",
   "metadata": {},
   "outputs": [],
   "source": [
    "data = '{' + f'\"post_hash\": \"{post_data_hash}\",\"parent_hash\": \"{post_data_hash}\",\"parent_type\": \"post\",\"num_votes\": 1' + '}'\n",
    "\n",
    "receipt = mint_onchain_data(data, accounts['Charlie'], schema_ids['vote'], wait_for_inclusion=True)"
   ]
  },
  {
   "cell_type": "code",
   "execution_count": 39,
   "id": "42402e59",
   "metadata": {},
   "outputs": [],
   "source": [
    "payout_amount = 1000000\n",
    "receipt = make_call(\"Balances\", \"transfer\", {\"dest\": \"5FqWBycSL7R7bG3VNRRHftv98kCjGCQ3oPT34tMUTwfsvcUj\", \"value\": payout_amount}, ferdie, wait_for_inclusion=True)\n",
    "data = '{' + f'\"payout_amount\": {payout_amount}' + '}'\n",
    "\n",
    "receipt = mint_onchain_data(data, accounts['Charlie'], schema_ids['payout'], wait_for_inclusion=True)"
   ]
  },
  {
   "cell_type": "code",
   "execution_count": null,
   "id": "fc639a8a",
   "metadata": {},
   "outputs": [],
   "source": []
  }
 ],
 "metadata": {
  "kernelspec": {
   "display_name": "Python 3 (ipykernel)",
   "language": "python",
   "name": "python3"
  },
  "language_info": {
   "codemirror_mode": {
    "name": "ipython",
    "version": 3
   },
   "file_extension": ".py",
   "mimetype": "text/x-python",
   "name": "python",
   "nbconvert_exporter": "python",
   "pygments_lexer": "ipython3",
   "version": "3.9.12"
  },
  "vscode": {
   "interpreter": {
    "hash": "f90a51316803318f0b952c570a4fe32d53aa73ff3300e1da5777ab9e91b8249c"
   }
  }
 },
 "nbformat": 4,
 "nbformat_minor": 5
}
